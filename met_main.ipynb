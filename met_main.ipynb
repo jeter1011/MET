{
 "cells": [
  {
   "cell_type": "code",
   "execution_count": null,
   "outputs": [],
   "source": [
    "# This is a copy of recipe_converter.py but in notebook form"
   ],
   "metadata": {
    "collapsed": false,
    "ExecuteTime": {
     "start_time": "2023-05-02T13:52:46.120680Z",
     "end_time": "2023-05-02T13:52:46.184076Z"
    }
   }
  },
  {
   "cell_type": "code",
   "execution_count": 9,
   "outputs": [],
   "source": [
    "import met_functions\n",
    "import met_functions as mf\n",
    "import MET_csv as metcsv\n",
    "import connect\n",
    "from IPython.display import display\n",
    "import pandas as pd\n",
    "\n",
    "recipe_: list"
   ],
   "metadata": {
    "collapsed": false,
    "ExecuteTime": {
     "start_time": "2023-05-03T20:24:40.694096Z",
     "end_time": "2023-05-03T20:24:40.700122Z"
    }
   }
  },
  {
   "cell_type": "code",
   "execution_count": null,
   "outputs": [],
   "source": [
    "# recipe_df = pd.read_csv('0625_EM_recipe.csv')\n",
    "# recipe_1 = recipe_df['0'].values.tolist()"
   ],
   "metadata": {
    "collapsed": false
   }
  },
  {
   "cell_type": "code",
   "execution_count": 2,
   "outputs": [],
   "source": [
    "def met_connect():\n",
    "    return connect.met_pull()"
   ],
   "metadata": {
    "collapsed": false,
    "ExecuteTime": {
     "start_time": "2023-05-03T20:13:26.173960Z",
     "end_time": "2023-05-03T20:13:26.186111Z"
    }
   }
  },
  {
   "cell_type": "code",
   "execution_count": 3,
   "outputs": [],
   "source": [
    "variables_df = metcsv.variable_data().reset_index()\n",
    "variables_df.dropna(how='all', axis='columns')\n",
    "variables_df = variables_df.loc[:, ~variables_df.columns.str.contains('^Unnamed')]"
   ],
   "metadata": {
    "collapsed": false,
    "ExecuteTime": {
     "start_time": "2023-05-03T20:13:28.774562Z",
     "end_time": "2023-05-03T20:13:28.788550Z"
    }
   }
  },
  {
   "cell_type": "code",
   "execution_count": 13,
   "outputs": [],
   "source": [
    "def met2variable (variable_name):\n",
    "\n",
    "    variable_value = []\n",
    "    test_key = metcsv.variable_dict(variable_name)\n",
    "    position, size = metcsv.find_location_size(test_key)\n",
    "    variable = recipe_[position:position + size]\n",
    "\n",
    "    #print(\"Variable_segment: \", variable)\n",
    "    #print(f'{variable_name}'\" Key:  \",test_key)\n",
    "\n",
    "    if test_key['Type']=='String':\n",
    "        variable_value.append(mf.MC_word_ascii(variable).rstrip('\\x00'))\n",
    "        print(f'{variable_name}'\": \", variable_value)\n",
    "\n",
    "\n",
    "    if test_key['Type']=='Float':\n",
    "        variable_value.append(mf.met2float(variable))\n",
    "\n",
    "\n",
    "    if test_key['Type']=='Word':\n",
    "        variable_value.append(variable)\n",
    "\n",
    "\n",
    "    if test_key['Type']=='Bit':\n",
    "\n",
    "        bit_value = met_functions.met2bin(variable, test_key['Bit Place'])\n",
    "        variable_value.append(bit_value)\n",
    "        #if bit_value == '1': print(True)\n",
    "        #else: print(False)\n",
    "\n",
    "    return variable_value[0]"
   ],
   "metadata": {
    "collapsed": false,
    "ExecuteTime": {
     "start_time": "2023-05-03T20:29:07.397948Z",
     "end_time": "2023-05-03T20:29:07.414232Z"
    }
   }
  },
  {
   "cell_type": "code",
   "execution_count": null,
   "outputs": [],
   "source": [
    "# variables_df[\"Values\"] = variables_df.apply(lambda x: met2variable(x[\"Variable\"]), axis=1)\n",
    "# variables_df.head(126)"
   ],
   "metadata": {
    "collapsed": false,
    "ExecuteTime": {
     "start_time": "2023-05-03T19:33:33.514797Z",
     "end_time": "2023-05-03T19:33:33.545057Z"
    }
   }
  },
  {
   "cell_type": "code",
   "execution_count": 10,
   "outputs": [],
   "source": [
    "def pull_recipe():\n",
    "    global recipe_\n",
    "    recipe_ = met_connect()\n",
    "    variables_df[\"Values\"] = variables_df.apply(lambda x: met2variable(x[\"Variable\"]), axis=1)\n",
    "    display(variables_df.head(126))"
   ],
   "metadata": {
    "collapsed": false,
    "ExecuteTime": {
     "start_time": "2023-05-03T20:25:32.904597Z",
     "end_time": "2023-05-03T20:25:32.916682Z"
    }
   }
  },
  {
   "cell_type": "code",
   "execution_count": 14,
   "outputs": [
    {
     "name": "stdout",
     "output_type": "stream",
     "text": [
      "Name:  ['2MM BN']\n"
     ]
    },
    {
     "data": {
      "text/plain": "                Variable                     GX DataType Device    Type   \n0                   Name                      String(19)  D9000  String  \\\n1    Tool_TipAttackAngle  FLOAT (Single Precision)(0..4)  D9010   Float   \n2             Tool_Angle  FLOAT (Single Precision)(0..5)  D9020   Float   \n3          Tool_Diameter  FLOAT (Single Precision)(0..5)  D9032   Float   \n4            Tool_Offset  FLOAT (Single Precision)(0..5)  D9044   Float   \n..                   ...                             ...    ...     ...   \n121     Custom_BrushYEnd  FLOAT (Single Precision)(0..4)  D9450   Float   \n122   Custom_BrushYSpeed  FLOAT (Single Precision)(0..4)  D9460   Float   \n123   Custom_BrushZStart  FLOAT (Single Precision)(0..4)  D9470   Float   \n124     Custom_BrushZEnd  FLOAT (Single Precision)(0..4)  D9480   Float   \n125   Custom_BrushZSpeed  FLOAT (Single Precision)(0..4)  D9490   Float   \n\n     Elements  Type Size  Bit Place  Position   \n0           1         10       <NA>         0  \\\n1           5          2       <NA>        10   \n2           6          2       <NA>        20   \n3           6          2       <NA>        32   \n4           6          2       <NA>        44   \n..        ...        ...        ...       ...   \n121         5          2       <NA>       450   \n122         5          2       <NA>       460   \n123         5          2       <NA>       470   \n124         5          2       <NA>       480   \n125         5          2       <NA>       490   \n\n                               Values  \n0                              2MM BN  \n1           [0.0, 0.0, 0.0, 0.0, 0.0]  \n2    [140.0, 0.0, 0.0, 0.0, 0.0, 0.0]  \n3    [0.472, 0.0, 0.0, 0.0, 0.0, 0.0]  \n4      [0.0, 0.0, 0.0, 0.0, 0.0, 0.0]  \n..                                ...  \n121    [7.881, 7.8, 7.65, 7.56, 7.56]  \n122         [0.5, 0.5, 0.0, 0.0, 0.0]  \n123  [0.465, 1.21, 1.811, 1.96, 1.96]  \n124  [0.465, 1.21, 1.811, 1.96, 1.96]  \n125         [0.0, 0.0, 0.0, 0.0, 0.0]  \n\n[126 rows x 9 columns]",
      "text/html": "<div>\n<style scoped>\n    .dataframe tbody tr th:only-of-type {\n        vertical-align: middle;\n    }\n\n    .dataframe tbody tr th {\n        vertical-align: top;\n    }\n\n    .dataframe thead th {\n        text-align: right;\n    }\n</style>\n<table border=\"1\" class=\"dataframe\">\n  <thead>\n    <tr style=\"text-align: right;\">\n      <th></th>\n      <th>Variable</th>\n      <th>GX DataType</th>\n      <th>Device</th>\n      <th>Type</th>\n      <th>Elements</th>\n      <th>Type Size</th>\n      <th>Bit Place</th>\n      <th>Position</th>\n      <th>Values</th>\n    </tr>\n  </thead>\n  <tbody>\n    <tr>\n      <th>0</th>\n      <td>Name</td>\n      <td>String(19)</td>\n      <td>D9000</td>\n      <td>String</td>\n      <td>1</td>\n      <td>10</td>\n      <td>&lt;NA&gt;</td>\n      <td>0</td>\n      <td>2MM BN</td>\n    </tr>\n    <tr>\n      <th>1</th>\n      <td>Tool_TipAttackAngle</td>\n      <td>FLOAT (Single Precision)(0..4)</td>\n      <td>D9010</td>\n      <td>Float</td>\n      <td>5</td>\n      <td>2</td>\n      <td>&lt;NA&gt;</td>\n      <td>10</td>\n      <td>[0.0, 0.0, 0.0, 0.0, 0.0]</td>\n    </tr>\n    <tr>\n      <th>2</th>\n      <td>Tool_Angle</td>\n      <td>FLOAT (Single Precision)(0..5)</td>\n      <td>D9020</td>\n      <td>Float</td>\n      <td>6</td>\n      <td>2</td>\n      <td>&lt;NA&gt;</td>\n      <td>20</td>\n      <td>[140.0, 0.0, 0.0, 0.0, 0.0, 0.0]</td>\n    </tr>\n    <tr>\n      <th>3</th>\n      <td>Tool_Diameter</td>\n      <td>FLOAT (Single Precision)(0..5)</td>\n      <td>D9032</td>\n      <td>Float</td>\n      <td>6</td>\n      <td>2</td>\n      <td>&lt;NA&gt;</td>\n      <td>32</td>\n      <td>[0.472, 0.0, 0.0, 0.0, 0.0, 0.0]</td>\n    </tr>\n    <tr>\n      <th>4</th>\n      <td>Tool_Offset</td>\n      <td>FLOAT (Single Precision)(0..5)</td>\n      <td>D9044</td>\n      <td>Float</td>\n      <td>6</td>\n      <td>2</td>\n      <td>&lt;NA&gt;</td>\n      <td>44</td>\n      <td>[0.0, 0.0, 0.0, 0.0, 0.0, 0.0]</td>\n    </tr>\n    <tr>\n      <th>...</th>\n      <td>...</td>\n      <td>...</td>\n      <td>...</td>\n      <td>...</td>\n      <td>...</td>\n      <td>...</td>\n      <td>...</td>\n      <td>...</td>\n      <td>...</td>\n    </tr>\n    <tr>\n      <th>121</th>\n      <td>Custom_BrushYEnd</td>\n      <td>FLOAT (Single Precision)(0..4)</td>\n      <td>D9450</td>\n      <td>Float</td>\n      <td>5</td>\n      <td>2</td>\n      <td>&lt;NA&gt;</td>\n      <td>450</td>\n      <td>[7.881, 7.8, 7.65, 7.56, 7.56]</td>\n    </tr>\n    <tr>\n      <th>122</th>\n      <td>Custom_BrushYSpeed</td>\n      <td>FLOAT (Single Precision)(0..4)</td>\n      <td>D9460</td>\n      <td>Float</td>\n      <td>5</td>\n      <td>2</td>\n      <td>&lt;NA&gt;</td>\n      <td>460</td>\n      <td>[0.5, 0.5, 0.0, 0.0, 0.0]</td>\n    </tr>\n    <tr>\n      <th>123</th>\n      <td>Custom_BrushZStart</td>\n      <td>FLOAT (Single Precision)(0..4)</td>\n      <td>D9470</td>\n      <td>Float</td>\n      <td>5</td>\n      <td>2</td>\n      <td>&lt;NA&gt;</td>\n      <td>470</td>\n      <td>[0.465, 1.21, 1.811, 1.96, 1.96]</td>\n    </tr>\n    <tr>\n      <th>124</th>\n      <td>Custom_BrushZEnd</td>\n      <td>FLOAT (Single Precision)(0..4)</td>\n      <td>D9480</td>\n      <td>Float</td>\n      <td>5</td>\n      <td>2</td>\n      <td>&lt;NA&gt;</td>\n      <td>480</td>\n      <td>[0.465, 1.21, 1.811, 1.96, 1.96]</td>\n    </tr>\n    <tr>\n      <th>125</th>\n      <td>Custom_BrushZSpeed</td>\n      <td>FLOAT (Single Precision)(0..4)</td>\n      <td>D9490</td>\n      <td>Float</td>\n      <td>5</td>\n      <td>2</td>\n      <td>&lt;NA&gt;</td>\n      <td>490</td>\n      <td>[0.0, 0.0, 0.0, 0.0, 0.0]</td>\n    </tr>\n  </tbody>\n</table>\n<p>126 rows × 9 columns</p>\n</div>"
     },
     "metadata": {},
     "output_type": "display_data"
    }
   ],
   "source": [
    "pull_recipe()"
   ],
   "metadata": {
    "collapsed": false,
    "ExecuteTime": {
     "start_time": "2023-05-03T20:29:13.526997Z",
     "end_time": "2023-05-03T20:29:15.668980Z"
    }
   }
  }
 ],
 "metadata": {
  "kernelspec": {
   "display_name": "Python 3",
   "language": "python",
   "name": "python3"
  },
  "language_info": {
   "codemirror_mode": {
    "name": "ipython",
    "version": 2
   },
   "file_extension": ".py",
   "mimetype": "text/x-python",
   "name": "python",
   "nbconvert_exporter": "python",
   "pygments_lexer": "ipython2",
   "version": "2.7.6"
  }
 },
 "nbformat": 4,
 "nbformat_minor": 0
}
